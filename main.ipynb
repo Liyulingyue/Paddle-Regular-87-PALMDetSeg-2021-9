{
 "cells": [
  {
   "cell_type": "markdown",
   "metadata": {
    "collapsed": false
   },
   "source": [
    "# 飞桨常规赛：PALM眼底彩照视盘探测与分割 \n",
    "\n",
    "本项目使用PaddleSeg进行调用式训练，参考了[https://aistudio.baidu.com/aistudio/projectdetail/2276682]\n",
    "\n",
    "**声明**\n",
    "\n",
    "本项目直接fork上述链接生成，但由于九月期间的数据集策略变动，从而对应挂载的数据集无法调用。"
   ]
  },
  {
   "cell_type": "markdown",
   "metadata": {
    "collapsed": false
   },
   "source": [
    "## 数据准备"
   ]
  },
  {
   "cell_type": "code",
   "execution_count": 1,
   "metadata": {
    "collapsed": false
   },
   "outputs": [],
   "source": [
    "#解压数据\r\n",
    "!unzip -oq data/data86770/seg.zip -d /home/aistudio/work"
   ]
  },
  {
   "cell_type": "markdown",
   "metadata": {
    "collapsed": false
   },
   "source": [
    "## 引入包"
   ]
  },
  {
   "cell_type": "code",
   "execution_count": 42,
   "metadata": {
    "collapsed": false
   },
   "outputs": [
    {
     "name": "stdout",
     "output_type": "stream",
     "text": [
      "Looking in indexes: https://pypi.tuna.tsinghua.edu.cn/simple\n",
      "Requirement already satisfied: paddleseg in /opt/conda/envs/python35-paddle120-env/lib/python3.7/site-packages (2.2.0)\n",
      "Requirement already satisfied: pyyaml>=5.1 in /opt/conda/envs/python35-paddle120-env/lib/python3.7/site-packages (from paddleseg) (5.1.2)\n",
      "Requirement already satisfied: prettytable in /opt/conda/envs/python35-paddle120-env/lib/python3.7/site-packages (from paddleseg) (0.7.2)\n",
      "Requirement already satisfied: tqdm in /opt/conda/envs/python35-paddle120-env/lib/python3.7/site-packages (from paddleseg) (4.36.1)\n",
      "Requirement already satisfied: yapf==0.26.0 in /opt/conda/envs/python35-paddle120-env/lib/python3.7/site-packages (from paddleseg) (0.26.0)\n",
      "Requirement already satisfied: flake8 in /opt/conda/envs/python35-paddle120-env/lib/python3.7/site-packages (from paddleseg) (3.8.2)\n",
      "Requirement already satisfied: filelock in /opt/conda/envs/python35-paddle120-env/lib/python3.7/site-packages (from paddleseg) (3.0.12)\n",
      "Requirement already satisfied: scipy in /opt/conda/envs/python35-paddle120-env/lib/python3.7/site-packages (from paddleseg) (1.6.3)\n",
      "Requirement already satisfied: opencv-python in /opt/conda/envs/python35-paddle120-env/lib/python3.7/site-packages (from paddleseg) (4.1.1.26)\n",
      "Requirement already satisfied: pre-commit in /opt/conda/envs/python35-paddle120-env/lib/python3.7/site-packages (from paddleseg) (1.21.0)\n",
      "Requirement already satisfied: visualdl>=2.0.0 in /opt/conda/envs/python35-paddle120-env/lib/python3.7/site-packages (from paddleseg) (2.2.0)\n",
      "Requirement already satisfied: pycodestyle<2.7.0,>=2.6.0a1 in /opt/conda/envs/python35-paddle120-env/lib/python3.7/site-packages (from flake8->paddleseg) (2.6.0)\n",
      "Requirement already satisfied: importlib-metadata; python_version < \"3.8\" in /opt/conda/envs/python35-paddle120-env/lib/python3.7/site-packages (from flake8->paddleseg) (0.23)\n",
      "Requirement already satisfied: pyflakes<2.3.0,>=2.2.0 in /opt/conda/envs/python35-paddle120-env/lib/python3.7/site-packages (from flake8->paddleseg) (2.2.0)\n",
      "Requirement already satisfied: mccabe<0.7.0,>=0.6.0 in /opt/conda/envs/python35-paddle120-env/lib/python3.7/site-packages (from flake8->paddleseg) (0.6.1)\n",
      "Requirement already satisfied: numpy<1.23.0,>=1.16.5 in /opt/conda/envs/python35-paddle120-env/lib/python3.7/site-packages (from scipy->paddleseg) (1.20.3)\n",
      "Requirement already satisfied: virtualenv>=15.2 in /opt/conda/envs/python35-paddle120-env/lib/python3.7/site-packages (from pre-commit->paddleseg) (16.7.9)\n",
      "Requirement already satisfied: aspy.yaml in /opt/conda/envs/python35-paddle120-env/lib/python3.7/site-packages (from pre-commit->paddleseg) (1.3.0)\n",
      "Requirement already satisfied: nodeenv>=0.11.1 in /opt/conda/envs/python35-paddle120-env/lib/python3.7/site-packages (from pre-commit->paddleseg) (1.3.4)\n",
      "Requirement already satisfied: toml in /opt/conda/envs/python35-paddle120-env/lib/python3.7/site-packages (from pre-commit->paddleseg) (0.10.0)\n",
      "Requirement already satisfied: identify>=1.0.0 in /opt/conda/envs/python35-paddle120-env/lib/python3.7/site-packages (from pre-commit->paddleseg) (1.4.10)\n",
      "Requirement already satisfied: cfgv>=2.0.0 in /opt/conda/envs/python35-paddle120-env/lib/python3.7/site-packages (from pre-commit->paddleseg) (2.0.1)\n",
      "Requirement already satisfied: six in /opt/conda/envs/python35-paddle120-env/lib/python3.7/site-packages (from pre-commit->paddleseg) (1.15.0)\n",
      "Requirement already satisfied: Pillow>=7.0.0 in /opt/conda/envs/python35-paddle120-env/lib/python3.7/site-packages (from visualdl>=2.0.0->paddleseg) (7.1.2)\n",
      "Requirement already satisfied: bce-python-sdk in /opt/conda/envs/python35-paddle120-env/lib/python3.7/site-packages (from visualdl>=2.0.0->paddleseg) (0.8.53)\n",
      "Requirement already satisfied: pandas in /opt/conda/envs/python35-paddle120-env/lib/python3.7/site-packages (from visualdl>=2.0.0->paddleseg) (1.1.5)\n",
      "Requirement already satisfied: Flask-Babel>=1.0.0 in /opt/conda/envs/python35-paddle120-env/lib/python3.7/site-packages (from visualdl>=2.0.0->paddleseg) (1.0.0)\n",
      "Requirement already satisfied: requests in /opt/conda/envs/python35-paddle120-env/lib/python3.7/site-packages (from visualdl>=2.0.0->paddleseg) (2.22.0)\n",
      "Requirement already satisfied: shellcheck-py in /opt/conda/envs/python35-paddle120-env/lib/python3.7/site-packages (from visualdl>=2.0.0->paddleseg) (0.7.1.1)\n",
      "Requirement already satisfied: protobuf>=3.11.0 in /opt/conda/envs/python35-paddle120-env/lib/python3.7/site-packages (from visualdl>=2.0.0->paddleseg) (3.14.0)\n",
      "Requirement already satisfied: matplotlib in /opt/conda/envs/python35-paddle120-env/lib/python3.7/site-packages (from visualdl>=2.0.0->paddleseg) (2.2.3)\n",
      "Requirement already satisfied: flask>=1.1.1 in /opt/conda/envs/python35-paddle120-env/lib/python3.7/site-packages (from visualdl>=2.0.0->paddleseg) (1.1.1)\n",
      "Requirement already satisfied: zipp>=0.5 in /opt/conda/envs/python35-paddle120-env/lib/python3.7/site-packages (from importlib-metadata; python_version < \"3.8\"->flake8->paddleseg) (0.6.0)\n",
      "Requirement already satisfied: future>=0.6.0 in /opt/conda/envs/python35-paddle120-env/lib/python3.7/site-packages (from bce-python-sdk->visualdl>=2.0.0->paddleseg) (0.18.0)\n",
      "Requirement already satisfied: pycryptodome>=3.8.0 in /opt/conda/envs/python35-paddle120-env/lib/python3.7/site-packages (from bce-python-sdk->visualdl>=2.0.0->paddleseg) (3.9.9)\n",
      "Requirement already satisfied: pytz>=2017.2 in /opt/conda/envs/python35-paddle120-env/lib/python3.7/site-packages (from pandas->visualdl>=2.0.0->paddleseg) (2019.3)\n",
      "Requirement already satisfied: python-dateutil>=2.7.3 in /opt/conda/envs/python35-paddle120-env/lib/python3.7/site-packages (from pandas->visualdl>=2.0.0->paddleseg) (2.8.0)\n",
      "Requirement already satisfied: Jinja2>=2.5 in /opt/conda/envs/python35-paddle120-env/lib/python3.7/site-packages (from Flask-Babel>=1.0.0->visualdl>=2.0.0->paddleseg) (2.10.1)\n",
      "Requirement already satisfied: Babel>=2.3 in /opt/conda/envs/python35-paddle120-env/lib/python3.7/site-packages (from Flask-Babel>=1.0.0->visualdl>=2.0.0->paddleseg) (2.8.0)\n",
      "Requirement already satisfied: urllib3!=1.25.0,!=1.25.1,<1.26,>=1.21.1 in /opt/conda/envs/python35-paddle120-env/lib/python3.7/site-packages (from requests->visualdl>=2.0.0->paddleseg) (1.25.6)\n",
      "Requirement already satisfied: chardet<3.1.0,>=3.0.2 in /opt/conda/envs/python35-paddle120-env/lib/python3.7/site-packages (from requests->visualdl>=2.0.0->paddleseg) (3.0.4)\n",
      "Requirement already satisfied: certifi>=2017.4.17 in /opt/conda/envs/python35-paddle120-env/lib/python3.7/site-packages (from requests->visualdl>=2.0.0->paddleseg) (2019.9.11)\n",
      "Requirement already satisfied: idna<2.9,>=2.5 in /opt/conda/envs/python35-paddle120-env/lib/python3.7/site-packages (from requests->visualdl>=2.0.0->paddleseg) (2.8)\n",
      "Requirement already satisfied: cycler>=0.10 in /opt/conda/envs/python35-paddle120-env/lib/python3.7/site-packages (from matplotlib->visualdl>=2.0.0->paddleseg) (0.10.0)\n",
      "Requirement already satisfied: kiwisolver>=1.0.1 in /opt/conda/envs/python35-paddle120-env/lib/python3.7/site-packages (from matplotlib->visualdl>=2.0.0->paddleseg) (1.1.0)\n",
      "Requirement already satisfied: pyparsing!=2.0.4,!=2.1.2,!=2.1.6,>=2.0.1 in /opt/conda/envs/python35-paddle120-env/lib/python3.7/site-packages (from matplotlib->visualdl>=2.0.0->paddleseg) (2.4.2)\n",
      "Requirement already satisfied: itsdangerous>=0.24 in /opt/conda/envs/python35-paddle120-env/lib/python3.7/site-packages (from flask>=1.1.1->visualdl>=2.0.0->paddleseg) (1.1.0)\n",
      "Requirement already satisfied: click>=5.1 in /opt/conda/envs/python35-paddle120-env/lib/python3.7/site-packages (from flask>=1.1.1->visualdl>=2.0.0->paddleseg) (7.0)\n",
      "Requirement already satisfied: Werkzeug>=0.15 in /opt/conda/envs/python35-paddle120-env/lib/python3.7/site-packages (from flask>=1.1.1->visualdl>=2.0.0->paddleseg) (0.16.0)\n",
      "Requirement already satisfied: more-itertools in /opt/conda/envs/python35-paddle120-env/lib/python3.7/site-packages (from zipp>=0.5->importlib-metadata; python_version < \"3.8\"->flake8->paddleseg) (7.2.0)\n",
      "Requirement already satisfied: MarkupSafe>=0.23 in /opt/conda/envs/python35-paddle120-env/lib/python3.7/site-packages (from Jinja2>=2.5->Flask-Babel>=1.0.0->visualdl>=2.0.0->paddleseg) (1.1.1)\n",
      "Requirement already satisfied: setuptools in /opt/conda/envs/python35-paddle120-env/lib/python3.7/site-packages (from kiwisolver>=1.0.1->matplotlib->visualdl>=2.0.0->paddleseg) (56.2.0)\n"
     ]
    }
   ],
   "source": [
    "!pip install paddleseg\r\n",
    "\r\n",
    "#导入常用的库\r\n",
    "import os\r\n",
    "import random\r\n",
    "import numpy as np\r\n",
    "from random import shuffle\r\n",
    "import cv2\r\n",
    "import paddle\r\n",
    "from PIL import Image\r\n",
    "import shutil\r\n",
    "import re\r\n",
    "from paddle.vision.transforms import functional as F\r\n",
    "import os.path\r\n",
    "import paddleseg.transforms as T\r\n",
    "from paddleseg.datasets import OpticDiscSeg,Dataset\r\n",
    "from paddleseg.models import UNet\r\n",
    "from paddleseg.models import OCRNet\r\n",
    "from paddleseg.models.losses import CrossEntropyLoss,DiceLoss, MixedLoss\r\n",
    "from paddleseg.core import train\r\n",
    "from paddleseg.core import evaluate\r\n",
    "from paddleseg.core import predict\r\n",
    "from PIL import Image"
   ]
  },
  {
   "cell_type": "markdown",
   "metadata": {
    "collapsed": false
   },
   "source": [
    "## 数据划分"
   ]
  },
  {
   "cell_type": "code",
   "execution_count": 43,
   "metadata": {
    "collapsed": false
   },
   "outputs": [],
   "source": [
    "names=[item.split('.')[0] for item in os.listdir('work/seg/Train/fundus_image')]\r\n",
    "ori_train_list=[]\r\n",
    "img_dir='/home/aistudio/work/seg/Train/fundus_image/'\r\n",
    "mask_dir='/home/aistudio/work/seg/Train/masks/'\r\n",
    "for name in names:\r\n",
    "    ori_train_list.append(img_dir+name+'.jpg '+mask_dir+name+'.png'+'\\n')\r\n",
    "\r\n",
    "cut_percent=0.2\r\n",
    "cut_point=int(cut_percent*len(ori_train_list))\r\n",
    "random.shuffle(ori_train_list)\r\n",
    "\r\n",
    "with open('train.txt','w') as f:\r\n",
    "    for item in ori_train_list[cut_point:]:\r\n",
    "        f.write(item)\r\n",
    "\r\n",
    "with open('eval.txt','w') as f:\r\n",
    "    for item in ori_train_list[:cut_point]:\r\n",
    "        f.write(item)"
   ]
  },
  {
   "cell_type": "markdown",
   "metadata": {
    "collapsed": false
   },
   "source": [
    "## 训练"
   ]
  },
  {
   "cell_type": "code",
   "execution_count": 44,
   "metadata": {
    "collapsed": false
   },
   "outputs": [],
   "source": [
    "train_transforms = [\r\n",
    "    T.RandomHorizontalFlip(),# 水平翻转\r\n",
    "    T.RandomVerticalFlip(),# 垂直翻转\r\n",
    "    T.RandomDistort(0.4),# 随机扭曲\r\n",
    "    T.RandomBlur(0.3),# 高斯模糊\r\n",
    "    T.RandomScaleAspect(min_scale=0.5,aspect_ratio=0.5),# 随机缩放\r\n",
    "    T.Resize(target_size=(512,512)),\r\n",
    "    T.Normalize()  # 图像标准化\r\n",
    "]\r\n",
    "\r\n",
    "val_transforms = [\r\n",
    "    T.Resize(target_size=(512,512)),\r\n",
    "    T.Normalize()\r\n",
    "]"
   ]
  },
  {
   "cell_type": "code",
   "execution_count": 45,
   "metadata": {
    "collapsed": false
   },
   "outputs": [],
   "source": [
    "# 构建训练集\r\n",
    "train_dataset = Dataset(\r\n",
    "    dataset_root='/home/aistudio',\r\n",
    "    train_path='/home/aistudio/train.txt',\r\n",
    "    transforms=train_transforms,\r\n",
    "    num_classes=2,\r\n",
    "    mode='train'\r\n",
    ")\r\n",
    "#验证集\r\n",
    "val_dataset = Dataset(\r\n",
    "    dataset_root='/home/aistudio',\r\n",
    "    val_path='/home/aistudio/eval.txt',\r\n",
    "    transforms=val_transforms,\r\n",
    "    num_classes=2,\r\n",
    "    mode='val'\r\n",
    ")"
   ]
  },
  {
   "cell_type": "code",
   "execution_count": 46,
   "metadata": {
    "collapsed": false
   },
   "outputs": [],
   "source": [
    "# unet_model = UNet(num_classes=2,pretrained='/home/aistudio/output/PLAM_model_3/best_model/model.pdparams')#使用预训练模型unet进行训练\r\n",
    "unet_model = UNet(num_classes=2)#使用unet进行训练"
   ]
  },
  {
   "cell_type": "code",
   "execution_count": 47,
   "metadata": {
    "collapsed": false
   },
   "outputs": [],
   "source": [
    "base_lr =0.001\r\n",
    "iters = 1000 \r\n",
    "\r\n",
    "#自动调整学习率\r\n",
    "lr =paddle.optimizer.lr.CosineAnnealingDecay(base_lr, T_max=(iters // 3), last_epoch=0.5)\r\n",
    "u_optimizer = paddle.optimizer.Adam(lr, parameters=unet_model.parameters())\r\n",
    "\r\n",
    "mixtureLosses = [CrossEntropyLoss(),DiceLoss() ]\r\n",
    "mixtureCoef = [0.7,0.3]\r\n",
    "losses = {}\r\n",
    "losses['types'] = [MixedLoss(mixtureLosses, mixtureCoef)]\r\n",
    "losses['coef'] = [1]"
   ]
  },
  {
   "cell_type": "code",
   "execution_count": 48,
   "metadata": {
    "collapsed": false
   },
   "outputs": [
    {
     "name": "stderr",
     "output_type": "stream",
     "text": [
      "/opt/conda/envs/python35-paddle120-env/lib/python3.7/site-packages/paddle/fluid/dataloader/dataloader_iter.py:89: DeprecationWarning: `np.bool` is a deprecated alias for the builtin `bool`. To silence this warning, use `bool` by itself. Doing this will not modify any behavior and is safe. If you specifically wanted the numpy scalar type, use `np.bool_` here.\n",
      "Deprecated in NumPy 1.20; for more details and guidance: https://numpy.org/devdocs/release/1.20.0-notes.html#deprecations\n",
      "  if isinstance(slot[0], (np.ndarray, np.bool, numbers.Number)):\n",
      "/opt/conda/envs/python35-paddle120-env/lib/python3.7/site-packages/paddle/fluid/dataloader/dataloader_iter.py:89: DeprecationWarning: `np.bool` is a deprecated alias for the builtin `bool`. To silence this warning, use `bool` by itself. Doing this will not modify any behavior and is safe. If you specifically wanted the numpy scalar type, use `np.bool_` here.\n",
      "Deprecated in NumPy 1.20; for more details and guidance: https://numpy.org/devdocs/release/1.20.0-notes.html#deprecations\n",
      "  if isinstance(slot[0], (np.ndarray, np.bool, numbers.Number)):\n",
      "/opt/conda/envs/python35-paddle120-env/lib/python3.7/site-packages/paddle/nn/layer/norm.py:648: UserWarning: When training, we now always track global mean and variance.\n",
      "  \"When training, we now always track global mean and variance.\")\n",
      "/opt/conda/envs/python35-paddle120-env/lib/python3.7/site-packages/paddle/fluid/dygraph/math_op_patch.py:238: UserWarning: The dtype of left and right variables are not the same, left dtype is VarType.FP32, but right dtype is VarType.INT64, the right dtype will convert to VarType.FP32\n",
      "  format(lhs_dtype, rhs_dtype, lhs_dtype))\n",
      "/opt/conda/envs/python35-paddle120-env/lib/python3.7/site-packages/paddle/fluid/dygraph/math_op_patch.py:238: UserWarning: The dtype of left and right variables are not the same, left dtype is VarType.FP32, but right dtype is VarType.BOOL, the right dtype will convert to VarType.FP32\n",
      "  format(lhs_dtype, rhs_dtype, lhs_dtype))\n"
     ]
    },
    {
     "name": "stdout",
     "output_type": "stream",
     "text": [
      "2021-09-25 09:39:40 [INFO]\t[TRAIN] epoch: 1, iter: 20/1000, loss: 0.3025, lr: 0.000991, batch_cost: 2.4208, reader_cost: 1.92957, ips: 3.3047 samples/sec | ETA 00:39:32\n",
      "2021-09-25 09:40:27 [INFO]\t[TRAIN] epoch: 1, iter: 40/1000, loss: 0.1839, lr: 0.000964, batch_cost: 2.3021, reader_cost: 1.81189, ips: 3.4751 samples/sec | ETA 00:36:49\n",
      "2021-09-25 09:41:11 [INFO]\t[TRAIN] epoch: 1, iter: 60/1000, loss: 0.1815, lr: 0.000921, batch_cost: 2.2379, reader_cost: 1.74695, ips: 3.5749 samples/sec | ETA 00:35:03\n",
      "2021-09-25 09:41:59 [INFO]\t[TRAIN] epoch: 1, iter: 80/1000, loss: 0.1842, lr: 0.000863, batch_cost: 2.3997, reader_cost: 1.90834, ips: 3.3337 samples/sec | ETA 00:36:47\n"
     ]
    },
    {
     "name": "stderr",
     "output_type": "stream",
     "text": [
      "/opt/conda/envs/python35-paddle120-env/lib/python3.7/site-packages/paddle/fluid/dataloader/dataloader_iter.py:89: DeprecationWarning: `np.bool` is a deprecated alias for the builtin `bool`. To silence this warning, use `bool` by itself. Doing this will not modify any behavior and is safe. If you specifically wanted the numpy scalar type, use `np.bool_` here.\n",
      "Deprecated in NumPy 1.20; for more details and guidance: https://numpy.org/devdocs/release/1.20.0-notes.html#deprecations\n",
      "  if isinstance(slot[0], (np.ndarray, np.bool, numbers.Number)):\n",
      "/opt/conda/envs/python35-paddle120-env/lib/python3.7/site-packages/paddle/fluid/dataloader/dataloader_iter.py:89: DeprecationWarning: `np.bool` is a deprecated alias for the builtin `bool`. To silence this warning, use `bool` by itself. Doing this will not modify any behavior and is safe. If you specifically wanted the numpy scalar type, use `np.bool_` here.\n",
      "Deprecated in NumPy 1.20; for more details and guidance: https://numpy.org/devdocs/release/1.20.0-notes.html#deprecations\n",
      "  if isinstance(slot[0], (np.ndarray, np.bool, numbers.Number)):\n"
     ]
    },
    {
     "name": "stdout",
     "output_type": "stream",
     "text": [
      "2021-09-25 09:42:48 [INFO]\t[TRAIN] epoch: 2, iter: 100/1000, loss: 0.1697, lr: 0.000792, batch_cost: 2.4601, reader_cost: 1.96819, ips: 3.2519 samples/sec | ETA 00:36:54\n",
      "2021-09-25 09:43:34 [INFO]\t[TRAIN] epoch: 2, iter: 120/1000, loss: 0.1581, lr: 0.000710, batch_cost: 2.2987, reader_cost: 1.80707, ips: 3.4802 samples/sec | ETA 00:33:42\n",
      "2021-09-25 09:44:20 [INFO]\t[TRAIN] epoch: 2, iter: 140/1000, loss: 0.1610, lr: 0.000621, batch_cost: 2.2714, reader_cost: 1.77917, ips: 3.5220 samples/sec | ETA 00:32:33\n",
      "2021-09-25 09:45:08 [INFO]\t[TRAIN] epoch: 2, iter: 160/1000, loss: 0.1751, lr: 0.000528, batch_cost: 2.3807, reader_cost: 1.88871, ips: 3.3603 samples/sec | ETA 00:33:19\n"
     ]
    },
    {
     "name": "stderr",
     "output_type": "stream",
     "text": [
      "/opt/conda/envs/python35-paddle120-env/lib/python3.7/site-packages/paddle/fluid/dataloader/dataloader_iter.py:89: DeprecationWarning: `np.bool` is a deprecated alias for the builtin `bool`. To silence this warning, use `bool` by itself. Doing this will not modify any behavior and is safe. If you specifically wanted the numpy scalar type, use `np.bool_` here.\n",
      "Deprecated in NumPy 1.20; for more details and guidance: https://numpy.org/devdocs/release/1.20.0-notes.html#deprecations\n",
      "  if isinstance(slot[0], (np.ndarray, np.bool, numbers.Number)):\n",
      "/opt/conda/envs/python35-paddle120-env/lib/python3.7/site-packages/paddle/fluid/dataloader/dataloader_iter.py:89: DeprecationWarning: `np.bool` is a deprecated alias for the builtin `bool`. To silence this warning, use `bool` by itself. Doing this will not modify any behavior and is safe. If you specifically wanted the numpy scalar type, use `np.bool_` here.\n",
      "Deprecated in NumPy 1.20; for more details and guidance: https://numpy.org/devdocs/release/1.20.0-notes.html#deprecations\n",
      "  if isinstance(slot[0], (np.ndarray, np.bool, numbers.Number)):\n"
     ]
    },
    {
     "name": "stdout",
     "output_type": "stream",
     "text": [
      "2021-09-25 09:45:54 [INFO]\t[TRAIN] epoch: 3, iter: 180/1000, loss: 0.1473, lr: 0.000434, batch_cost: 2.3132, reader_cost: 1.82008, ips: 3.4585 samples/sec | ETA 00:31:36\n",
      "2021-09-25 09:46:39 [INFO]\t[TRAIN] epoch: 3, iter: 200/1000, loss: 0.1476, lr: 0.000342, batch_cost: 2.2639, reader_cost: 1.77151, ips: 3.5337 samples/sec | ETA 00:30:11\n",
      "2021-09-25 09:46:39 [INFO]\tStart evaluating (total_samples: 160, total_iters: 160)...\n"
     ]
    },
    {
     "name": "stderr",
     "output_type": "stream",
     "text": [
      "/opt/conda/envs/python35-paddle120-env/lib/python3.7/site-packages/paddle/fluid/dataloader/dataloader_iter.py:89: DeprecationWarning: `np.bool` is a deprecated alias for the builtin `bool`. To silence this warning, use `bool` by itself. Doing this will not modify any behavior and is safe. If you specifically wanted the numpy scalar type, use `np.bool_` here.\n",
      "Deprecated in NumPy 1.20; for more details and guidance: https://numpy.org/devdocs/release/1.20.0-notes.html#deprecations\n",
      "  if isinstance(slot[0], (np.ndarray, np.bool, numbers.Number)):\n",
      "/opt/conda/envs/python35-paddle120-env/lib/python3.7/site-packages/paddle/fluid/dygraph/math_op_patch.py:238: UserWarning: The dtype of left and right variables are not the same, left dtype is VarType.INT32, but right dtype is VarType.BOOL, the right dtype will convert to VarType.INT32\n",
      "  format(lhs_dtype, rhs_dtype, lhs_dtype))\n",
      "/opt/conda/envs/python35-paddle120-env/lib/python3.7/site-packages/paddle/fluid/dygraph/math_op_patch.py:238: UserWarning: The dtype of left and right variables are not the same, left dtype is VarType.INT64, but right dtype is VarType.BOOL, the right dtype will convert to VarType.INT64\n",
      "  format(lhs_dtype, rhs_dtype, lhs_dtype))\n",
      "160/160 [==============================] - 28s 176ms/step - batch_cost: 0.1749 - reader cost: 0.161\n"
     ]
    },
    {
     "name": "stdout",
     "output_type": "stream",
     "text": [
      "2021-09-25 09:47:07 [INFO]\t[EVAL] #Images: 160 mIoU: 0.6300 Acc: 0.9868 Kappa: 0.4244 \n",
      "2021-09-25 09:47:07 [INFO]\t[EVAL] Class IoU: \n",
      "[0.9868 0.2732]\n",
      "2021-09-25 09:47:07 [INFO]\t[EVAL] Class Acc: \n",
      "[0.9873 0.9007]\n",
      "2021-09-25 09:47:10 [INFO]\t[EVAL] The model with the best validation mIoU (0.6300) was saved at iter 200.\n",
      "2021-09-25 09:47:49 [INFO]\t[TRAIN] epoch: 3, iter: 220/1000, loss: 0.1374, lr: 0.000256, batch_cost: 1.9538, reader_cost: 1.46061, ips: 4.0945 samples/sec | ETA 00:25:23\n",
      "2021-09-25 09:48:35 [INFO]\t[TRAIN] epoch: 3, iter: 240/1000, loss: 0.1237, lr: 0.000179, batch_cost: 2.3202, reader_cost: 1.82807, ips: 3.4479 samples/sec | ETA 00:29:23\n"
     ]
    },
    {
     "name": "stderr",
     "output_type": "stream",
     "text": [
      "/opt/conda/envs/python35-paddle120-env/lib/python3.7/site-packages/paddle/fluid/dataloader/dataloader_iter.py:89: DeprecationWarning: `np.bool` is a deprecated alias for the builtin `bool`. To silence this warning, use `bool` by itself. Doing this will not modify any behavior and is safe. If you specifically wanted the numpy scalar type, use `np.bool_` here.\n",
      "Deprecated in NumPy 1.20; for more details and guidance: https://numpy.org/devdocs/release/1.20.0-notes.html#deprecations\n",
      "  if isinstance(slot[0], (np.ndarray, np.bool, numbers.Number)):\n",
      "/opt/conda/envs/python35-paddle120-env/lib/python3.7/site-packages/paddle/fluid/dataloader/dataloader_iter.py:89: DeprecationWarning: `np.bool` is a deprecated alias for the builtin `bool`. To silence this warning, use `bool` by itself. Doing this will not modify any behavior and is safe. If you specifically wanted the numpy scalar type, use `np.bool_` here.\n",
      "Deprecated in NumPy 1.20; for more details and guidance: https://numpy.org/devdocs/release/1.20.0-notes.html#deprecations\n",
      "  if isinstance(slot[0], (np.ndarray, np.bool, numbers.Number)):\n"
     ]
    },
    {
     "name": "stdout",
     "output_type": "stream",
     "text": [
      "2021-09-25 09:49:24 [INFO]\t[TRAIN] epoch: 4, iter: 260/1000, loss: 0.1292, lr: 0.000112, batch_cost: 2.4493, reader_cost: 1.95647, ips: 3.2663 samples/sec | ETA 00:30:12\n",
      "2021-09-25 09:50:13 [INFO]\t[TRAIN] epoch: 4, iter: 280/1000, loss: 0.1197, lr: 0.000060, batch_cost: 2.4263, reader_cost: 1.93384, ips: 3.2972 samples/sec | ETA 00:29:06\n",
      "2021-09-25 09:50:57 [INFO]\t[TRAIN] epoch: 4, iter: 300/1000, loss: 0.1158, lr: 0.000023, batch_cost: 2.2078, reader_cost: 1.71477, ips: 3.6235 samples/sec | ETA 00:25:45\n",
      "2021-09-25 09:51:44 [INFO]\t[TRAIN] epoch: 4, iter: 320/1000, loss: 0.1016, lr: 0.000003, batch_cost: 2.3392, reader_cost: 1.84676, ips: 3.4200 samples/sec | ETA 00:26:30\n"
     ]
    },
    {
     "name": "stderr",
     "output_type": "stream",
     "text": [
      "/opt/conda/envs/python35-paddle120-env/lib/python3.7/site-packages/paddle/fluid/dataloader/dataloader_iter.py:89: DeprecationWarning: `np.bool` is a deprecated alias for the builtin `bool`. To silence this warning, use `bool` by itself. Doing this will not modify any behavior and is safe. If you specifically wanted the numpy scalar type, use `np.bool_` here.\n",
      "Deprecated in NumPy 1.20; for more details and guidance: https://numpy.org/devdocs/release/1.20.0-notes.html#deprecations\n",
      "  if isinstance(slot[0], (np.ndarray, np.bool, numbers.Number)):\n",
      "/opt/conda/envs/python35-paddle120-env/lib/python3.7/site-packages/paddle/fluid/dataloader/dataloader_iter.py:89: DeprecationWarning: `np.bool` is a deprecated alias for the builtin `bool`. To silence this warning, use `bool` by itself. Doing this will not modify any behavior and is safe. If you specifically wanted the numpy scalar type, use `np.bool_` here.\n",
      "Deprecated in NumPy 1.20; for more details and guidance: https://numpy.org/devdocs/release/1.20.0-notes.html#deprecations\n",
      "  if isinstance(slot[0], (np.ndarray, np.bool, numbers.Number)):\n"
     ]
    },
    {
     "name": "stdout",
     "output_type": "stream",
     "text": [
      "2021-09-25 09:52:30 [INFO]\t[TRAIN] epoch: 5, iter: 340/1000, loss: 0.1066, lr: 0.000001, batch_cost: 2.3129, reader_cost: 1.82017, ips: 3.4588 samples/sec | ETA 00:25:26\n",
      "2021-09-25 09:53:17 [INFO]\t[TRAIN] epoch: 5, iter: 360/1000, loss: 0.1012, lr: 0.000017, batch_cost: 2.3397, reader_cost: 1.84727, ips: 3.4192 samples/sec | ETA 00:24:57\n",
      "2021-09-25 09:54:05 [INFO]\t[TRAIN] epoch: 5, iter: 380/1000, loss: 0.1132, lr: 0.000049, batch_cost: 2.4164, reader_cost: 1.92328, ips: 3.3107 samples/sec | ETA 00:24:58\n",
      "2021-09-25 09:54:52 [INFO]\t[TRAIN] epoch: 5, iter: 400/1000, loss: 0.1029, lr: 0.000098, batch_cost: 2.3336, reader_cost: 1.84031, ips: 3.4282 samples/sec | ETA 00:23:20\n",
      "2021-09-25 09:54:52 [INFO]\tStart evaluating (total_samples: 160, total_iters: 160)...\n"
     ]
    },
    {
     "name": "stderr",
     "output_type": "stream",
     "text": [
      "/opt/conda/envs/python35-paddle120-env/lib/python3.7/site-packages/paddle/fluid/dataloader/dataloader_iter.py:89: DeprecationWarning: `np.bool` is a deprecated alias for the builtin `bool`. To silence this warning, use `bool` by itself. Doing this will not modify any behavior and is safe. If you specifically wanted the numpy scalar type, use `np.bool_` here.\n",
      "Deprecated in NumPy 1.20; for more details and guidance: https://numpy.org/devdocs/release/1.20.0-notes.html#deprecations\n",
      "  if isinstance(slot[0], (np.ndarray, np.bool, numbers.Number)):\n",
      "160/160 [==============================] - 28s 175ms/step - batch_cost: 0.1737 - reader cost: 0.159\n"
     ]
    },
    {
     "name": "stdout",
     "output_type": "stream",
     "text": [
      "2021-09-25 09:55:20 [INFO]\t[EVAL] #Images: 160 mIoU: 0.7968 Acc: 0.9922 Kappa: 0.7473 \n",
      "2021-09-25 09:55:20 [INFO]\t[EVAL] Class IoU: \n",
      "[0.9921 0.6016]\n",
      "2021-09-25 09:55:20 [INFO]\t[EVAL] Class Acc: \n",
      "[0.9941 0.8532]\n",
      "2021-09-25 09:55:22 [INFO]\t[EVAL] The model with the best validation mIoU (0.7968) was saved at iter 400.\n"
     ]
    },
    {
     "name": "stderr",
     "output_type": "stream",
     "text": [
      "/opt/conda/envs/python35-paddle120-env/lib/python3.7/site-packages/paddle/fluid/dataloader/dataloader_iter.py:89: DeprecationWarning: `np.bool` is a deprecated alias for the builtin `bool`. To silence this warning, use `bool` by itself. Doing this will not modify any behavior and is safe. If you specifically wanted the numpy scalar type, use `np.bool_` here.\n",
      "Deprecated in NumPy 1.20; for more details and guidance: https://numpy.org/devdocs/release/1.20.0-notes.html#deprecations\n",
      "  if isinstance(slot[0], (np.ndarray, np.bool, numbers.Number)):\n",
      "/opt/conda/envs/python35-paddle120-env/lib/python3.7/site-packages/paddle/fluid/dataloader/dataloader_iter.py:89: DeprecationWarning: `np.bool` is a deprecated alias for the builtin `bool`. To silence this warning, use `bool` by itself. Doing this will not modify any behavior and is safe. If you specifically wanted the numpy scalar type, use `np.bool_` here.\n",
      "Deprecated in NumPy 1.20; for more details and guidance: https://numpy.org/devdocs/release/1.20.0-notes.html#deprecations\n",
      "  if isinstance(slot[0], (np.ndarray, np.bool, numbers.Number)):\n"
     ]
    },
    {
     "name": "stdout",
     "output_type": "stream",
     "text": [
      "2021-09-25 09:56:10 [INFO]\t[TRAIN] epoch: 6, iter: 420/1000, loss: 0.1076, lr: 0.000161, batch_cost: 2.3978, reader_cost: 1.90538, ips: 3.3364 samples/sec | ETA 00:23:10\n",
      "2021-09-25 09:56:59 [INFO]\t[TRAIN] epoch: 6, iter: 440/1000, loss: 0.1076, lr: 0.000236, batch_cost: 2.4510, reader_cost: 1.95835, ips: 3.2639 samples/sec | ETA 00:22:52\n",
      "2021-09-25 09:57:46 [INFO]\t[TRAIN] epoch: 6, iter: 460/1000, loss: 0.1168, lr: 0.000320, batch_cost: 2.3362, reader_cost: 1.84281, ips: 3.4244 samples/sec | ETA 00:21:01\n",
      "2021-09-25 09:58:32 [INFO]\t[TRAIN] epoch: 6, iter: 480/1000, loss: 0.1042, lr: 0.000411, batch_cost: 2.3376, reader_cost: 1.84427, ips: 3.4222 samples/sec | ETA 00:20:15\n"
     ]
    },
    {
     "name": "stderr",
     "output_type": "stream",
     "text": [
      "/opt/conda/envs/python35-paddle120-env/lib/python3.7/site-packages/paddle/fluid/dataloader/dataloader_iter.py:89: DeprecationWarning: `np.bool` is a deprecated alias for the builtin `bool`. To silence this warning, use `bool` by itself. Doing this will not modify any behavior and is safe. If you specifically wanted the numpy scalar type, use `np.bool_` here.\n",
      "Deprecated in NumPy 1.20; for more details and guidance: https://numpy.org/devdocs/release/1.20.0-notes.html#deprecations\n",
      "  if isinstance(slot[0], (np.ndarray, np.bool, numbers.Number)):\n",
      "/opt/conda/envs/python35-paddle120-env/lib/python3.7/site-packages/paddle/fluid/dataloader/dataloader_iter.py:89: DeprecationWarning: `np.bool` is a deprecated alias for the builtin `bool`. To silence this warning, use `bool` by itself. Doing this will not modify any behavior and is safe. If you specifically wanted the numpy scalar type, use `np.bool_` here.\n",
      "Deprecated in NumPy 1.20; for more details and guidance: https://numpy.org/devdocs/release/1.20.0-notes.html#deprecations\n",
      "  if isinstance(slot[0], (np.ndarray, np.bool, numbers.Number)):\n"
     ]
    },
    {
     "name": "stdout",
     "output_type": "stream",
     "text": [
      "2021-09-25 09:59:17 [INFO]\t[TRAIN] epoch: 7, iter: 500/1000, loss: 0.1057, lr: 0.000505, batch_cost: 2.2545, reader_cost: 1.76173, ips: 3.5485 samples/sec | ETA 00:18:47\n",
      "2021-09-25 10:00:05 [INFO]\t[TRAIN] epoch: 7, iter: 520/1000, loss: 0.1052, lr: 0.000598, batch_cost: 2.3626, reader_cost: 1.86903, ips: 3.3861 samples/sec | ETA 00:18:54\n",
      "2021-09-25 10:00:49 [INFO]\t[TRAIN] epoch: 7, iter: 540/1000, loss: 0.1065, lr: 0.000689, batch_cost: 2.1896, reader_cost: 1.69625, ips: 3.6536 samples/sec | ETA 00:16:47\n",
      "2021-09-25 10:01:38 [INFO]\t[TRAIN] epoch: 7, iter: 560/1000, loss: 0.1073, lr: 0.000772, batch_cost: 2.4803, reader_cost: 1.98698, ips: 3.2254 samples/sec | ETA 00:18:11\n"
     ]
    },
    {
     "name": "stderr",
     "output_type": "stream",
     "text": [
      "/opt/conda/envs/python35-paddle120-env/lib/python3.7/site-packages/paddle/fluid/dataloader/dataloader_iter.py:89: DeprecationWarning: `np.bool` is a deprecated alias for the builtin `bool`. To silence this warning, use `bool` by itself. Doing this will not modify any behavior and is safe. If you specifically wanted the numpy scalar type, use `np.bool_` here.\n",
      "Deprecated in NumPy 1.20; for more details and guidance: https://numpy.org/devdocs/release/1.20.0-notes.html#deprecations\n",
      "  if isinstance(slot[0], (np.ndarray, np.bool, numbers.Number)):\n",
      "/opt/conda/envs/python35-paddle120-env/lib/python3.7/site-packages/paddle/fluid/dataloader/dataloader_iter.py:89: DeprecationWarning: `np.bool` is a deprecated alias for the builtin `bool`. To silence this warning, use `bool` by itself. Doing this will not modify any behavior and is safe. If you specifically wanted the numpy scalar type, use `np.bool_` here.\n",
      "Deprecated in NumPy 1.20; for more details and guidance: https://numpy.org/devdocs/release/1.20.0-notes.html#deprecations\n",
      "  if isinstance(slot[0], (np.ndarray, np.bool, numbers.Number)):\n"
     ]
    },
    {
     "name": "stdout",
     "output_type": "stream",
     "text": [
      "2021-09-25 10:02:27 [INFO]\t[TRAIN] epoch: 8, iter: 580/1000, loss: 0.0946, lr: 0.000846, batch_cost: 2.4452, reader_cost: 1.95205, ips: 3.2717 samples/sec | ETA 00:17:06\n",
      "2021-09-25 10:03:12 [INFO]\t[TRAIN] epoch: 8, iter: 600/1000, loss: 0.0998, lr: 0.000908, batch_cost: 2.2520, reader_cost: 1.75931, ips: 3.5523 samples/sec | ETA 00:15:00\n",
      "2021-09-25 10:03:12 [INFO]\tStart evaluating (total_samples: 160, total_iters: 160)...\n"
     ]
    },
    {
     "name": "stderr",
     "output_type": "stream",
     "text": [
      "/opt/conda/envs/python35-paddle120-env/lib/python3.7/site-packages/paddle/fluid/dataloader/dataloader_iter.py:89: DeprecationWarning: `np.bool` is a deprecated alias for the builtin `bool`. To silence this warning, use `bool` by itself. Doing this will not modify any behavior and is safe. If you specifically wanted the numpy scalar type, use `np.bool_` here.\n",
      "Deprecated in NumPy 1.20; for more details and guidance: https://numpy.org/devdocs/release/1.20.0-notes.html#deprecations\n",
      "  if isinstance(slot[0], (np.ndarray, np.bool, numbers.Number)):\n",
      "160/160 [==============================] - 28s 177ms/step - batch_cost: 0.1755 - reader cost: 0.16\n"
     ]
    },
    {
     "name": "stdout",
     "output_type": "stream",
     "text": [
      "2021-09-25 10:03:40 [INFO]\t[EVAL] #Images: 160 mIoU: 0.7775 Acc: 0.9920 Kappa: 0.7167 \n",
      "2021-09-25 10:03:40 [INFO]\t[EVAL] Class IoU: \n",
      "[0.9919 0.5631]\n",
      "2021-09-25 10:03:40 [INFO]\t[EVAL] Class Acc: \n",
      "[0.9926 0.9359]\n",
      "2021-09-25 10:03:42 [INFO]\t[EVAL] The model with the best validation mIoU (0.7968) was saved at iter 400.\n",
      "2021-09-25 10:04:23 [INFO]\t[TRAIN] epoch: 8, iter: 620/1000, loss: 0.1084, lr: 0.000955, batch_cost: 2.0498, reader_cost: 1.55668, ips: 3.9028 samples/sec | ETA 00:12:58\n",
      "2021-09-25 10:05:09 [INFO]\t[TRAIN] epoch: 8, iter: 640/1000, loss: 0.0992, lr: 0.000986, batch_cost: 2.3128, reader_cost: 1.82022, ips: 3.4589 samples/sec | ETA 00:13:52\n"
     ]
    },
    {
     "name": "stderr",
     "output_type": "stream",
     "text": [
      "/opt/conda/envs/python35-paddle120-env/lib/python3.7/site-packages/paddle/fluid/dataloader/dataloader_iter.py:89: DeprecationWarning: `np.bool` is a deprecated alias for the builtin `bool`. To silence this warning, use `bool` by itself. Doing this will not modify any behavior and is safe. If you specifically wanted the numpy scalar type, use `np.bool_` here.\n",
      "Deprecated in NumPy 1.20; for more details and guidance: https://numpy.org/devdocs/release/1.20.0-notes.html#deprecations\n",
      "  if isinstance(slot[0], (np.ndarray, np.bool, numbers.Number)):\n",
      "/opt/conda/envs/python35-paddle120-env/lib/python3.7/site-packages/paddle/fluid/dataloader/dataloader_iter.py:89: DeprecationWarning: `np.bool` is a deprecated alias for the builtin `bool`. To silence this warning, use `bool` by itself. Doing this will not modify any behavior and is safe. If you specifically wanted the numpy scalar type, use `np.bool_` here.\n",
      "Deprecated in NumPy 1.20; for more details and guidance: https://numpy.org/devdocs/release/1.20.0-notes.html#deprecations\n",
      "  if isinstance(slot[0], (np.ndarray, np.bool, numbers.Number)):\n"
     ]
    },
    {
     "name": "stdout",
     "output_type": "stream",
     "text": [
      "2021-09-25 10:05:58 [INFO]\t[TRAIN] epoch: 9, iter: 660/1000, loss: 0.0942, lr: 0.000999, batch_cost: 2.4263, reader_cost: 1.93375, ips: 3.2971 samples/sec | ETA 00:13:44\n",
      "2021-09-25 10:06:45 [INFO]\t[TRAIN] epoch: 9, iter: 680/1000, loss: 0.0793, lr: 0.000995, batch_cost: 2.3574, reader_cost: 1.86479, ips: 3.3936 samples/sec | ETA 00:12:34\n",
      "2021-09-25 10:07:31 [INFO]\t[TRAIN] epoch: 9, iter: 700/1000, loss: 0.0781, lr: 0.000974, batch_cost: 2.2974, reader_cost: 1.80364, ips: 3.4821 samples/sec | ETA 00:11:29\n",
      "2021-09-25 10:08:15 [INFO]\t[TRAIN] epoch: 9, iter: 720/1000, loss: 0.0774, lr: 0.000935, batch_cost: 2.2126, reader_cost: 1.71965, ips: 3.6156 samples/sec | ETA 00:10:19\n"
     ]
    },
    {
     "name": "stderr",
     "output_type": "stream",
     "text": [
      "/opt/conda/envs/python35-paddle120-env/lib/python3.7/site-packages/paddle/fluid/dataloader/dataloader_iter.py:89: DeprecationWarning: `np.bool` is a deprecated alias for the builtin `bool`. To silence this warning, use `bool` by itself. Doing this will not modify any behavior and is safe. If you specifically wanted the numpy scalar type, use `np.bool_` here.\n",
      "Deprecated in NumPy 1.20; for more details and guidance: https://numpy.org/devdocs/release/1.20.0-notes.html#deprecations\n",
      "  if isinstance(slot[0], (np.ndarray, np.bool, numbers.Number)):\n",
      "/opt/conda/envs/python35-paddle120-env/lib/python3.7/site-packages/paddle/fluid/dataloader/dataloader_iter.py:89: DeprecationWarning: `np.bool` is a deprecated alias for the builtin `bool`. To silence this warning, use `bool` by itself. Doing this will not modify any behavior and is safe. If you specifically wanted the numpy scalar type, use `np.bool_` here.\n",
      "Deprecated in NumPy 1.20; for more details and guidance: https://numpy.org/devdocs/release/1.20.0-notes.html#deprecations\n",
      "  if isinstance(slot[0], (np.ndarray, np.bool, numbers.Number)):\n"
     ]
    },
    {
     "name": "stdout",
     "output_type": "stream",
     "text": [
      "2021-09-25 10:09:04 [INFO]\t[TRAIN] epoch: 10, iter: 740/1000, loss: 0.0681, lr: 0.000882, batch_cost: 2.4423, reader_cost: 1.94868, ips: 3.2756 samples/sec | ETA 00:10:34\n",
      "2021-09-25 10:09:53 [INFO]\t[TRAIN] epoch: 10, iter: 760/1000, loss: 0.0786, lr: 0.000814, batch_cost: 2.4266, reader_cost: 1.93370, ips: 3.2968 samples/sec | ETA 00:09:42\n",
      "2021-09-25 10:10:40 [INFO]\t[TRAIN] epoch: 10, iter: 780/1000, loss: 0.0688, lr: 0.000736, batch_cost: 2.3426, reader_cost: 1.84808, ips: 3.4150 samples/sec | ETA 00:08:35\n",
      "2021-09-25 10:11:27 [INFO]\t[TRAIN] epoch: 10, iter: 800/1000, loss: 0.0664, lr: 0.000649, batch_cost: 2.3507, reader_cost: 1.85671, ips: 3.4033 samples/sec | ETA 00:07:50\n",
      "2021-09-25 10:11:27 [INFO]\tStart evaluating (total_samples: 160, total_iters: 160)...\n"
     ]
    },
    {
     "name": "stderr",
     "output_type": "stream",
     "text": [
      "/opt/conda/envs/python35-paddle120-env/lib/python3.7/site-packages/paddle/fluid/dataloader/dataloader_iter.py:89: DeprecationWarning: `np.bool` is a deprecated alias for the builtin `bool`. To silence this warning, use `bool` by itself. Doing this will not modify any behavior and is safe. If you specifically wanted the numpy scalar type, use `np.bool_` here.\n",
      "Deprecated in NumPy 1.20; for more details and guidance: https://numpy.org/devdocs/release/1.20.0-notes.html#deprecations\n",
      "  if isinstance(slot[0], (np.ndarray, np.bool, numbers.Number)):\n",
      "160/160 [==============================] - 28s 175ms/step - batch_cost: 0.1734 - reader cost: 0.159\n"
     ]
    },
    {
     "name": "stdout",
     "output_type": "stream",
     "text": [
      "2021-09-25 10:11:55 [INFO]\t[EVAL] #Images: 160 mIoU: 0.8759 Acc: 0.9951 Kappa: 0.8591 \n",
      "2021-09-25 10:11:55 [INFO]\t[EVAL] Class IoU: \n",
      "[0.995  0.7568]\n",
      "2021-09-25 10:11:55 [INFO]\t[EVAL] Class Acc: \n",
      "[0.9978 0.8486]\n",
      "2021-09-25 10:11:57 [INFO]\t[EVAL] The model with the best validation mIoU (0.8759) was saved at iter 800.\n"
     ]
    },
    {
     "name": "stderr",
     "output_type": "stream",
     "text": [
      "/opt/conda/envs/python35-paddle120-env/lib/python3.7/site-packages/paddle/fluid/dataloader/dataloader_iter.py:89: DeprecationWarning: `np.bool` is a deprecated alias for the builtin `bool`. To silence this warning, use `bool` by itself. Doing this will not modify any behavior and is safe. If you specifically wanted the numpy scalar type, use `np.bool_` here.\n",
      "Deprecated in NumPy 1.20; for more details and guidance: https://numpy.org/devdocs/release/1.20.0-notes.html#deprecations\n",
      "  if isinstance(slot[0], (np.ndarray, np.bool, numbers.Number)):\n",
      "/opt/conda/envs/python35-paddle120-env/lib/python3.7/site-packages/paddle/fluid/dataloader/dataloader_iter.py:89: DeprecationWarning: `np.bool` is a deprecated alias for the builtin `bool`. To silence this warning, use `bool` by itself. Doing this will not modify any behavior and is safe. If you specifically wanted the numpy scalar type, use `np.bool_` here.\n",
      "Deprecated in NumPy 1.20; for more details and guidance: https://numpy.org/devdocs/release/1.20.0-notes.html#deprecations\n",
      "  if isinstance(slot[0], (np.ndarray, np.bool, numbers.Number)):\n"
     ]
    },
    {
     "name": "stdout",
     "output_type": "stream",
     "text": [
      "2021-09-25 10:12:45 [INFO]\t[TRAIN] epoch: 11, iter: 820/1000, loss: 0.0759, lr: 0.000556, batch_cost: 2.3986, reader_cost: 1.90516, ips: 3.3353 samples/sec | ETA 00:07:11\n",
      "2021-09-25 10:13:32 [INFO]\t[TRAIN] epoch: 11, iter: 840/1000, loss: 0.0532, lr: 0.000462, batch_cost: 2.3497, reader_cost: 1.85633, ips: 3.4046 samples/sec | ETA 00:06:15\n",
      "2021-09-25 10:14:15 [INFO]\t[TRAIN] epoch: 11, iter: 860/1000, loss: 0.0679, lr: 0.000369, batch_cost: 2.1558, reader_cost: 1.66298, ips: 3.7110 samples/sec | ETA 00:05:01\n",
      "2021-09-25 10:15:02 [INFO]\t[TRAIN] epoch: 11, iter: 880/1000, loss: 0.0539, lr: 0.000281, batch_cost: 2.3398, reader_cost: 1.84572, ips: 3.4191 samples/sec | ETA 00:04:40\n"
     ]
    },
    {
     "name": "stderr",
     "output_type": "stream",
     "text": [
      "/opt/conda/envs/python35-paddle120-env/lib/python3.7/site-packages/paddle/fluid/dataloader/dataloader_iter.py:89: DeprecationWarning: `np.bool` is a deprecated alias for the builtin `bool`. To silence this warning, use `bool` by itself. Doing this will not modify any behavior and is safe. If you specifically wanted the numpy scalar type, use `np.bool_` here.\n",
      "Deprecated in NumPy 1.20; for more details and guidance: https://numpy.org/devdocs/release/1.20.0-notes.html#deprecations\n",
      "  if isinstance(slot[0], (np.ndarray, np.bool, numbers.Number)):\n",
      "/opt/conda/envs/python35-paddle120-env/lib/python3.7/site-packages/paddle/fluid/dataloader/dataloader_iter.py:89: DeprecationWarning: `np.bool` is a deprecated alias for the builtin `bool`. To silence this warning, use `bool` by itself. Doing this will not modify any behavior and is safe. If you specifically wanted the numpy scalar type, use `np.bool_` here.\n",
      "Deprecated in NumPy 1.20; for more details and guidance: https://numpy.org/devdocs/release/1.20.0-notes.html#deprecations\n",
      "  if isinstance(slot[0], (np.ndarray, np.bool, numbers.Number)):\n"
     ]
    },
    {
     "name": "stdout",
     "output_type": "stream",
     "text": [
      "2021-09-25 10:15:52 [INFO]\t[TRAIN] epoch: 12, iter: 900/1000, loss: 0.0576, lr: 0.000201, batch_cost: 2.5223, reader_cost: 2.02838, ips: 3.1717 samples/sec | ETA 00:04:12\n",
      "2021-09-25 10:16:37 [INFO]\t[TRAIN] epoch: 12, iter: 920/1000, loss: 0.0525, lr: 0.000131, batch_cost: 2.2416, reader_cost: 1.74837, ips: 3.5688 samples/sec | ETA 00:02:59\n",
      "2021-09-25 10:17:22 [INFO]\t[TRAIN] epoch: 12, iter: 940/1000, loss: 0.0568, lr: 0.000074, batch_cost: 2.2374, reader_cost: 1.74378, ips: 3.5755 samples/sec | ETA 00:02:14\n",
      "2021-09-25 10:18:09 [INFO]\t[TRAIN] epoch: 12, iter: 960/1000, loss: 0.0449, lr: 0.000033, batch_cost: 2.3749, reader_cost: 1.88105, ips: 3.3686 samples/sec | ETA 00:01:34\n"
     ]
    },
    {
     "name": "stderr",
     "output_type": "stream",
     "text": [
      "/opt/conda/envs/python35-paddle120-env/lib/python3.7/site-packages/paddle/fluid/dataloader/dataloader_iter.py:89: DeprecationWarning: `np.bool` is a deprecated alias for the builtin `bool`. To silence this warning, use `bool` by itself. Doing this will not modify any behavior and is safe. If you specifically wanted the numpy scalar type, use `np.bool_` here.\n",
      "Deprecated in NumPy 1.20; for more details and guidance: https://numpy.org/devdocs/release/1.20.0-notes.html#deprecations\n",
      "  if isinstance(slot[0], (np.ndarray, np.bool, numbers.Number)):\n",
      "/opt/conda/envs/python35-paddle120-env/lib/python3.7/site-packages/paddle/fluid/dataloader/dataloader_iter.py:89: DeprecationWarning: `np.bool` is a deprecated alias for the builtin `bool`. To silence this warning, use `bool` by itself. Doing this will not modify any behavior and is safe. If you specifically wanted the numpy scalar type, use `np.bool_` here.\n",
      "Deprecated in NumPy 1.20; for more details and guidance: https://numpy.org/devdocs/release/1.20.0-notes.html#deprecations\n",
      "  if isinstance(slot[0], (np.ndarray, np.bool, numbers.Number)):\n"
     ]
    },
    {
     "name": "stdout",
     "output_type": "stream",
     "text": [
      "2021-09-25 10:18:58 [INFO]\t[TRAIN] epoch: 13, iter: 980/1000, loss: 0.0455, lr: 0.000008, batch_cost: 2.4578, reader_cost: 1.96384, ips: 3.2549 samples/sec | ETA 00:00:49\n",
      "2021-09-25 10:19:48 [INFO]\t[TRAIN] epoch: 13, iter: 1000/1000, loss: 0.0434, lr: 0.000000, batch_cost: 2.4917, reader_cost: 1.99884, ips: 3.2106 samples/sec | ETA 00:00:00\n",
      "2021-09-25 10:19:48 [INFO]\tStart evaluating (total_samples: 160, total_iters: 160)...\n"
     ]
    },
    {
     "name": "stderr",
     "output_type": "stream",
     "text": [
      "/opt/conda/envs/python35-paddle120-env/lib/python3.7/site-packages/paddle/fluid/dataloader/dataloader_iter.py:89: DeprecationWarning: `np.bool` is a deprecated alias for the builtin `bool`. To silence this warning, use `bool` by itself. Doing this will not modify any behavior and is safe. If you specifically wanted the numpy scalar type, use `np.bool_` here.\n",
      "Deprecated in NumPy 1.20; for more details and guidance: https://numpy.org/devdocs/release/1.20.0-notes.html#deprecations\n",
      "  if isinstance(slot[0], (np.ndarray, np.bool, numbers.Number)):\n",
      "160/160 [==============================] - 28s 175ms/step - batch_cost: 0.1733 - reader cost: 0.159\n"
     ]
    },
    {
     "name": "stdout",
     "output_type": "stream",
     "text": [
      "2021-09-25 10:20:16 [INFO]\t[EVAL] #Images: 160 mIoU: 0.8976 Acc: 0.9960 Kappa: 0.8864 \n",
      "2021-09-25 10:20:16 [INFO]\t[EVAL] Class IoU: \n",
      "[0.9959 0.7993]\n",
      "2021-09-25 10:20:16 [INFO]\t[EVAL] Class Acc: \n",
      "[0.9984 0.8696]\n",
      "2021-09-25 10:20:18 [INFO]\t[EVAL] The model with the best validation mIoU (0.8976) was saved at iter 1000.\n",
      "<class 'paddle.nn.layer.conv.Conv2D'>'s flops has been counted\n",
      "<class 'paddle.nn.layer.norm.BatchNorm2D'>'s flops has been counted\n",
      "Cannot find suitable count function for <class 'paddle.nn.layer.pooling.MaxPool2D'>. Treat it as zero FLOPs.\n",
      "Total Flops: 124303966208     Total Params: 13404354\n"
     ]
    },
    {
     "name": "stderr",
     "output_type": "stream",
     "text": [
      "/opt/conda/envs/python35-paddle120-env/lib/python3.7/site-packages/paddle/tensor/creation.py:143: DeprecationWarning: `np.object` is a deprecated alias for the builtin `object`. To silence this warning, use `object` by itself. Doing this will not modify any behavior and is safe. \n",
      "Deprecated in NumPy 1.20; for more details and guidance: https://numpy.org/devdocs/release/1.20.0-notes.html#deprecations\n",
      "  if data.dtype == np.object:\n",
      "/opt/conda/envs/python35-paddle120-env/lib/python3.7/site-packages/paddle/fluid/dygraph/math_op_patch.py:238: UserWarning: The dtype of left and right variables are not the same, left dtype is VarType.FP32, but right dtype is VarType.INT32, the right dtype will convert to VarType.FP32\n",
      "  format(lhs_dtype, rhs_dtype, lhs_dtype))\n"
     ]
    }
   ],
   "source": [
    "#进行训练\r\n",
    "train(\r\n",
    "    model = unet_model,\r\n",
    "    train_dataset=train_dataset,\r\n",
    "    val_dataset=val_dataset,\r\n",
    "    optimizer=u_optimizer,\r\n",
    "    save_dir='output/PLAM_model_4',\r\n",
    "    iters=iters,  \r\n",
    "    batch_size=8, \r\n",
    "    save_interval=200,\r\n",
    "    log_iters=20,\r\n",
    "    num_workers=2,\r\n",
    "    losses=losses,\r\n",
    "    use_vdl=False\r\n",
    "    )"
   ]
  },
  {
   "cell_type": "markdown",
   "metadata": {
    "collapsed": false
   },
   "source": [
    "## 测试"
   ]
  },
  {
   "cell_type": "code",
   "execution_count": 49,
   "metadata": {
    "collapsed": false
   },
   "outputs": [
    {
     "name": "stdout",
     "output_type": "stream",
     "text": [
      "2021-09-25 10:22:39 [INFO]\tLoading pretrained model from output/UNet/1000_model/model.pdparams\n",
      "2021-09-25 10:22:39 [INFO]\tThere are 112/112 variables loaded into UNet.\n",
      "2021-09-25 10:22:39 [INFO]\tStart to predict...\n"
     ]
    },
    {
     "name": "stderr",
     "output_type": "stream",
     "text": [
      "400/400 [==============================] - 110s 275ms/st\n"
     ]
    }
   ],
   "source": [
    "test_list=[\"work/seg/test/\"+item for item in os.listdir(\"work/seg/test\")]\r\n",
    "\r\n",
    "transforms = T.Compose([\r\n",
    "    pt.Resize(target_size=(512, 512)),\r\n",
    "    pt.Normalize()\r\n",
    "])\r\n",
    "\r\n",
    "model = UNet(num_classes=2)\r\n",
    "\r\n",
    "predict(\r\n",
    "    model,\r\n",
    "    #换自己保存的模型文件\r\n",
    "    model_path = 'output/UNet/1000_model/model.pdparams',\r\n",
    "    transforms=transforms,\r\n",
    "    image_list=image_list,\r\n",
    "    save_dir='results',)"
   ]
  },
  {
   "cell_type": "markdown",
   "metadata": {
    "collapsed": false
   },
   "source": [
    "## 打包"
   ]
  },
  {
   "cell_type": "code",
   "execution_count": 39,
   "metadata": {
    "collapsed": false
   },
   "outputs": [],
   "source": [
    "! mkdir final_result\r\n",
    "for img in os.listdir('results/pseudo_color_prediction'):\r\n",
    "    img_dir='results/pseudo_color_prediction/'+img\r\n",
    "    im=Image.open(img_dir)\r\n",
    "    im=Image.fromarray(255-np.array(im)*255)\r\n",
    "    im.save('final_result/'+img)\r\n",
    "# 打包结果\r\n",
    "! zip -q -r result.zip final_result/"
   ]
  }
 ],
 "metadata": {
  "kernelspec": {
   "display_name": "Python 3",
   "language": "python",
   "name": "py35-paddle1.2.0"
  },
  "language_info": {
   "codemirror_mode": {
    "name": "ipython",
    "version": 3
   },
   "file_extension": ".py",
   "mimetype": "text/x-python",
   "name": "python",
   "nbconvert_exporter": "python",
   "pygments_lexer": "ipython3",
   "version": "3.7.4"
  }
 },
 "nbformat": 4,
 "nbformat_minor": 1
}
